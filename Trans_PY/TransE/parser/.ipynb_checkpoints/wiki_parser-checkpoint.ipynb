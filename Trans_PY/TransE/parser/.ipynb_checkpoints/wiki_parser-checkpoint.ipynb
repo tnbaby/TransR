{
 "cells": [
  {
   "cell_type": "code",
   "execution_count": 7,
   "metadata": {
    "collapsed": true
   },
   "outputs": [],
   "source": [
    "%matplotlib inline"
   ]
  },
  {
   "cell_type": "code",
   "execution_count": 8,
   "metadata": {
    "collapsed": true
   },
   "outputs": [],
   "source": [
    "import numpy as np\n",
    "import pandas as pd\n",
    "import requests\n",
    "from bs4 import BeautifulSoup\n",
    "import pickle\n"
   ]
  },
  {
   "cell_type": "code",
   "execution_count": 9,
   "metadata": {
    "collapsed": true
   },
   "outputs": [],
   "source": [
    "data_path = \"../../FB15k/\""
   ]
  },
  {
   "cell_type": "code",
   "execution_count": 50,
   "metadata": {
    "collapsed": true
   },
   "outputs": [],
   "source": [
    "def calc_sum(list1, list2):\n",
    "    s = 0;\n",
    "    for i in xrange(len(list1)):\n",
    "        s += abs(list1[i] - list2[i])\n",
    "    return abs(s)\n",
    "\n",
    "def parseline(line):\n",
    "    vec = []\n",
    "    for i in line.split(\"\\t\"):\n",
    "        if i != \"\\n\":\n",
    "            vec += [float(i)]\n",
    "    return vec\n",
    "def read_vec(path, file_name):\n",
    "    vec = []\n",
    "    f = open(path+file_name, 'r')\n",
    "    data = f.readlines()\n",
    "    f.close()\n",
    "    for i in data:\n",
    "        vec += [parseline(i)]\n",
    "    return vec\n",
    "def read_data(path, file_name):\n",
    "    list1 = []\n",
    "    dict1 = {}\n",
    "    count = 0\n",
    "    f = open(path+file_name, 'r')\n",
    "    data = f.readlines()\n",
    "    f.close()\n",
    "    for i in data:\n",
    "        str1, num = i.split(\"\\t\")\n",
    "        list1 += [str1]\n",
    "        dict1[str1] = count\n",
    "        count += 1\n",
    "    return list1, dict1"
   ]
  },
  {
   "cell_type": "markdown",
   "metadata": {},
   "source": [
    "## read result vec"
   ]
  },
  {
   "cell_type": "code",
   "execution_count": 51,
   "metadata": {
    "collapsed": true
   },
   "outputs": [],
   "source": [
    "entity_vec = read_vec('../', \"entity2vec.bern\")\n",
    "relation_vec = read_vec('../', \"relation2vec.bern\")"
   ]
  },
  {
   "cell_type": "markdown",
   "metadata": {},
   "source": [
    "## read training data"
   ]
  },
  {
   "cell_type": "code",
   "execution_count": 17,
   "metadata": {
    "collapsed": true
   },
   "outputs": [],
   "source": [
    "entitylist, entity2id = read_data(data_path, 'entity2id.txt')\n",
    "relationlist, relation2id = read_data(data_path, 'relation2id.txt')"
   ]
  },
  {
   "cell_type": "markdown",
   "metadata": {},
   "source": [
    "## read freebase to wikidata"
   ]
  },
  {
   "cell_type": "code",
   "execution_count": 18,
   "metadata": {
    "collapsed": true
   },
   "outputs": [],
   "source": [
    "f = open(data_path+'f2w.nt', \"r\")\n",
    "data = f.readlines()\n",
    "f.close()\n",
    "fb2wiki = {}\n",
    "wiki2fb = {}\n",
    "for i in data:\n",
    "    fb, wiki = i.split(' ')\n",
    "    fb2wiki[fb] = wiki.rstrip()\n",
    "    wiki2fb[wiki.rstrip()] = fb"
   ]
  },
  {
   "cell_type": "markdown",
   "metadata": {},
   "source": [
    "## input search string"
   ]
  },
  {
   "cell_type": "code",
   "execution_count": 52,
   "metadata": {},
   "outputs": [
    {
     "name": "stdout",
     "output_type": "stream",
     "text": [
      "input a string:beijing\n",
      "search first id:  (Q956)\n",
      "search first result:  Beijing\n"
     ]
    }
   ],
   "source": [
    "inp_str = raw_input(\"input a string:\")\n",
    "res = requests.get(\"https://www.wikidata.org/w/index.php?search=&search=\"+inp_str+\"&title=Special%3ASearch&go=Go\")\n",
    "soup = BeautifulSoup(res.text,\"html.parser\")\n",
    "for tag in soup.find_all(\"span\", class_=\"wb-itemlink-id\"):\n",
    "\tinp_str = tag.string\n",
    "\tprint \"search first id: \", inp_str\n",
    "\tbreak\n",
    "for tag in soup.find_all(\"span\",  class_=\"wb-itemlink-label\"):\n",
    "\tprint \"search first result: \",tag.string\n",
    "\tbreak"
   ]
  },
  {
   "cell_type": "code",
   "execution_count": 66,
   "metadata": {
    "collapsed": true
   },
   "outputs": [],
   "source": [
    "target = entity2id[wiki2fb[inp_str[1:len(inp_str)-1]]]\n",
    "result = {}\n",
    "K = 10"
   ]
  },
  {
   "cell_type": "markdown",
   "metadata": {},
   "source": [
    "## calcuate the sum and sort"
   ]
  },
  {
   "cell_type": "code",
   "execution_count": 67,
   "metadata": {
    "collapsed": true
   },
   "outputs": [],
   "source": [
    "def find_top_k(ii, target):\n",
    "    candidate_list = {}\n",
    "    print relationlist[ii]\n",
    "    for i in xrange(len(entitylist)):\n",
    "    #\tfor ii in xrange(len(relationvec)):\n",
    "        try:\n",
    "            candidate_list[fb2wiki[entitylist[i]]] = calc_sum(np.add(entity_vec[target], relation_vec[ii]), entity_vec[i])\n",
    "        #\tcandidate_list[fb2wiki[entitylist[i]]] = calc_sum(entityvec[k], entityvec[i])\n",
    "        except KeyError:\n",
    "            pass\n",
    "    # find the top k predictions\n",
    "    count = 0\n",
    "    simlist = []\n",
    "    for i in sorted(candidate_list.items(), key= lambda item:item[1]):\n",
    "        simlist += [i[0]]\n",
    "        print i[0], i[1]\n",
    "        count += 1\n",
    "        if count > K:\n",
    "            break\n",
    "    return simlist"
   ]
  },
  {
   "cell_type": "markdown",
   "metadata": {},
   "source": [
    "## search on wikidata for the meaning of the index"
   ]
  },
  {
   "cell_type": "code",
   "execution_count": 70,
   "metadata": {
    "collapsed": true
   },
   "outputs": [],
   "source": [
    "def search_wikidata(simlist):\n",
    "    dict1 = {}\n",
    "    for i in simlist:\n",
    "        res = requests.get(\"https://www.wikidata.org/wiki/\"+i)\n",
    "        res.encoding = 'utf-8'\n",
    "        soup = BeautifulSoup(res.text,\"html.parser\")\n",
    "        for tag in soup.find_all(\"span\", class_=\"wikibase-title-label\"):\n",
    "             label = tag.string\n",
    "        for tag in soup.find_all(\"span\", class_=\"wikibase-descriptionview-text\"):\t\n",
    "            desc = tag.string\n",
    "        dict1[label] = desc\n",
    "    return dict1"
   ]
  },
  {
   "cell_type": "code",
   "execution_count": null,
   "metadata": {},
   "outputs": [
    {
     "name": "stdout",
     "output_type": "stream",
     "text": [
      "/people/appointed_role/appointment./people/appointment/appointed_by\n",
      "Q956 2.181248\n",
      "Q11736 3.522813\n",
      "Q21208 3.682456\n",
      "Q8686 3.697508\n",
      "Q16963 3.904752\n",
      "Q16553 3.936879\n",
      "Q46913 3.975509\n",
      "Q8646 4.030665\n",
      "Q43407 4.035559\n",
      "Q773 4.042105\n",
      "Q1492 4.053492\n",
      "/location/statistical_region/rent50_2./measurement_unit/dated_money_value/currency\n",
      "Q4917 3.868949\n",
      "Q956 4.134028\n",
      "Q4916 4.158128\n",
      "Q398 4.268167\n",
      "Q854 4.305715\n",
      "Q833 4.310483\n",
      "Q45 4.311274\n",
      "Q33 4.340177\n",
      "Q1027 4.353017\n",
      "Q237 4.356331\n",
      "Q1842 4.374386\n",
      "/tv/tv_series_episode/guest_stars./tv/tv_guest_role/actor\n",
      "Q956 3.391527\n",
      "Q180852 4.427659\n",
      "Q8686 4.453591\n",
      "Q1492 4.474073\n",
      "Q159577 4.547281\n",
      "Q11736 4.601868\n",
      "Q560286 4.621586\n",
      "Q21208 4.696619\n",
      "Q8646 4.745064\n",
      "Q40956 4.771456\n",
      "Q319204 4.777849\n",
      "/music/performance_role/track_performances./music/track_contribution/contributor\n",
      "Q166565 6.988767\n",
      "Q157256 7.104644\n",
      "Q219772 7.367422\n",
      "Q314397 7.370567\n",
      "Q192668 7.372414\n",
      "Q819016 7.432664\n",
      "Q449224 7.468577\n",
      "Q190243 7.48883\n",
      "Q364873 7.529142\n",
      "Q5235388 7.565272\n",
      "Q519273 7.57001\n",
      "/medicine/disease/prevention_factors\n",
      "Q956 0.941387\n",
      "Q21208 2.728619\n",
      "Q11736 2.75013\n",
      "Q8686 3.038363\n",
      "Q46913 3.23986\n",
      "Q43407 3.302876\n",
      "Q1492 3.348253\n",
      "Q8646 3.428282\n",
      "Q40956 3.497988\n",
      "Q16963 3.501791\n",
      "Q16553 3.50429\n",
      "/organization/organization_member/member_of./organization/organization_membership/organization\n",
      "Q21208 4.391055\n",
      "Q294278 4.448526\n",
      "Q340195 4.537332\n",
      "Q7164 4.55098\n",
      "Q38130 4.561122\n",
      "Q7159 4.578637\n",
      "Q11736 4.579084\n",
      "Q7785 4.590162\n",
      "Q41550 4.608739\n",
      "Q188822 4.616536\n",
      "Q3624 4.669354\n",
      "/american_football/football_player/receiving./american_football/player_receiving_statistics/season\n",
      "Q956 0.861089\n",
      "Q21208 2.738287\n",
      "Q11736 2.810506\n",
      "Q8686 3.090487\n",
      "Q8646 3.112816\n",
      "Q43407 3.175876\n",
      "Q46913 3.214358\n",
      "Q1492 3.284077\n",
      "Q43684 3.29504\n",
      "Q16963 3.386399\n",
      "Q188096 3.425741\n"
     ]
    }
   ],
   "source": [
    "t1 = time.time()\n",
    "start = 0 \n",
    "if os.path.exists(\"timeout.txt\"):\n",
    "    with open('timeout.txt', 'r') as f:\n",
    "    start = int(f.readlines())\n",
    "for i in range(start, relation2id):\n",
    "    simlist = find_top_k(i, target)\n",
    "    try:\n",
    "        result[relationlist[i]] = search_wikidata(simlist)\n",
    "    except requests.exceptions.ConnectTimeout:\n",
    "        with open('timeout.txt','w') as f:\n",
    "            f.write(start)\n",
    "        with open('result_dict.txt', 'w') as f:\n",
    "            pickle.dump(result, f)\n",
    "        exit(0)\n",
    "    except BaseExceptioin, e:\n",
    "        print e\n",
    "        time.sleep(1)"
   ]
  },
  {
   "cell_type": "code",
   "execution_count": 72,
   "metadata": {
    "collapsed": true
   },
   "outputs": [],
   "source": [
    "res = pd.DataFrame(result)"
   ]
  },
  {
   "cell_type": "code",
   "execution_count": 73,
   "metadata": {},
   "outputs": [
    {
     "data": {
      "text/html": [
       "<div>\n",
       "<style>\n",
       "    .dataframe thead tr:only-child th {\n",
       "        text-align: right;\n",
       "    }\n",
       "\n",
       "    .dataframe thead th {\n",
       "        text-align: left;\n",
       "    }\n",
       "\n",
       "    .dataframe tbody tr th {\n",
       "        vertical-align: top;\n",
       "    }\n",
       "</style>\n",
       "<table border=\"1\" class=\"dataframe\">\n",
       "  <thead>\n",
       "    <tr style=\"text-align: right;\">\n",
       "      <th></th>\n",
       "    </tr>\n",
       "  </thead>\n",
       "  <tbody>\n",
       "  </tbody>\n",
       "</table>\n",
       "</div>"
      ],
      "text/plain": [
       "Empty DataFrame\n",
       "Columns: []\n",
       "Index: []"
      ]
     },
     "execution_count": 73,
     "metadata": {},
     "output_type": "execute_result"
    }
   ],
   "source": [
    "res.head()"
   ]
  }
 ],
 "metadata": {
  "kernelspec": {
   "display_name": "Python 2",
   "language": "python",
   "name": "python2"
  },
  "language_info": {
   "codemirror_mode": {
    "name": "ipython",
    "version": 2
   },
   "file_extension": ".py",
   "mimetype": "text/x-python",
   "name": "python",
   "nbconvert_exporter": "python",
   "pygments_lexer": "ipython2",
   "version": "2.7.13"
  }
 },
 "nbformat": 4,
 "nbformat_minor": 2
}

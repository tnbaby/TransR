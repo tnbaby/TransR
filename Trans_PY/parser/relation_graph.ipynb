{
 "cells": [
  {
   "cell_type": "code",
   "execution_count": 150,
   "metadata": {
    "collapsed": true
   },
   "outputs": [],
   "source": [
    "%matplotlib inline"
   ]
  },
  {
   "cell_type": "code",
   "execution_count": 151,
   "metadata": {
    "collapsed": true
   },
   "outputs": [],
   "source": [
    "import numpy as np\n",
    "import pandas  as pd\n",
    "import pickle\n",
    "import os\n",
    "import matplotlib.pyplot as plt"
   ]
  },
  {
   "cell_type": "code",
   "execution_count": 152,
   "metadata": {},
   "outputs": [
    {
     "data": {
      "text/plain": [
       "['valid.txt',\n",
       " 'multi2one_relation.csv',\n",
       " 'relation_pairs.csv',\n",
       " 'one2one_relation_desc.csv',\n",
       " '.~lock.multi2multi_relation.csv#',\n",
       " 'multi2multi_relation.csv',\n",
       " 'one2onerelation.csv',\n",
       " 'one2multirelation.csv',\n",
       " 'test.txt',\n",
       " '.~lock.one2onerelation.csv#',\n",
       " 'train.txt',\n",
       " 'relation_pairs_small.csv',\n",
       " 'relation_graph.txt']"
      ]
     },
     "execution_count": 152,
     "metadata": {},
     "output_type": "execute_result"
    }
   ],
   "source": [
    "os.listdir('../../wikidata/')"
   ]
  },
  {
   "cell_type": "code",
   "execution_count": 231,
   "metadata": {
    "collapsed": true
   },
   "outputs": [],
   "source": [
    "data_path = '../../wikidata/'"
   ]
  },
  {
   "cell_type": "code",
   "execution_count": 232,
   "metadata": {
    "collapsed": true
   },
   "outputs": [],
   "source": [
    "with open(data_path+'relation_graph.txt', 'r') as f:\n",
    "    data = f.readlines()"
   ]
  },
  {
   "cell_type": "code",
   "execution_count": 233,
   "metadata": {},
   "outputs": [
    {
     "data": {
      "text/plain": [
       "'310 128\\n'"
      ]
     },
     "execution_count": 233,
     "metadata": {},
     "output_type": "execute_result"
    }
   ],
   "source": [
    "data[0]"
   ]
  },
  {
   "cell_type": "code",
   "execution_count": 234,
   "metadata": {},
   "outputs": [
    {
     "data": {
      "text/plain": [
       "'0.077216'"
      ]
     },
     "execution_count": 234,
     "metadata": {},
     "output_type": "execute_result"
    }
   ],
   "source": [
    "data[1].split(' ')[2]"
   ]
  },
  {
   "cell_type": "code",
   "execution_count": 235,
   "metadata": {},
   "outputs": [],
   "source": [
    "relation_vec = {}\n",
    "relation_list = []\n",
    "for index in range(1, len(data)):\n",
    "    lis = data[index].strip().split(' ');\n",
    "    vec = []\n",
    "    for i in lis[1:]:\n",
    "        vec += [float(i)]\n",
    "    relation_vec.update({lis[0] : vec})\n",
    "    if lis[0] not in relation_list:\n",
    "        relation_list +=[lis[0]]\n",
    "    else:\n",
    "        print (lis[0])"
   ]
  },
  {
   "cell_type": "code",
   "execution_count": 236,
   "metadata": {
    "collapsed": true
   },
   "outputs": [],
   "source": [
    "def calc_sum(list1, list2):\n",
    "    s = 0\n",
    "    for i in range(len(list1)):\n",
    "        s += list1[i]*list2[i]\n",
    "    return s"
   ]
  },
  {
   "cell_type": "code",
   "execution_count": 237,
   "metadata": {
    "collapsed": true
   },
   "outputs": [],
   "source": [
    "target = relation_list[0]\n",
    "target_vec = relation_vec[target]\n",
    "candidate_list = {}\n",
    "for key, values in relation_vec.items():\n",
    "#     print(target_vec)\n",
    "    candidate_list[key] =  calc_sum(target_vec, values)"
   ]
  },
  {
   "cell_type": "code",
   "execution_count": 238,
   "metadata": {},
   "outputs": [
    {
     "data": {
      "text/plain": [
       "'/location/statistical_region/rent50_2./measurement_unit/dated_money_value/currency'"
      ]
     },
     "execution_count": 238,
     "metadata": {},
     "output_type": "execute_result"
    }
   ],
   "source": [
    "target"
   ]
  },
  {
   "cell_type": "code",
   "execution_count": 239,
   "metadata": {
    "collapsed": true
   },
   "outputs": [],
   "source": [
    "result = sorted(candidate_list.items(), key=lambda item:item[1], reverse=True)"
   ]
  },
  {
   "cell_type": "code",
   "execution_count": 241,
   "metadata": {},
   "outputs": [
    {
     "name": "stdout",
     "output_type": "stream",
     "text": [
      "/location/location/contains 9.600632577662\n",
      "/organization/organization/headquarters./location/mailing_address/citytown 9.277814980457\n",
      "/award/award_winner/awards_won./award/award_honor/award 8.362749106807\n",
      "/people/person/places_lived./people/place_lived/location 8.292036564607\n",
      "/people/person/religion 8.193879983322004\n",
      "/user/tsegaran/random/subject_taxonomy/entry./user/tsegaran/random/taxonomy_entry/subject 8.109583422743002\n",
      "/food/food/nutrients./food/nutrition_fact/nutrient 8.085652359207998\n",
      "/business/business_operation/industry 8.061649341296999\n",
      "/dataworld/gardening_hint/split_to 8.047820396278\n",
      "/organization/organization/headquarters./location/mailing_address/state_province_region 7.849911280620997\n"
     ]
    }
   ],
   "source": [
    "cnt = 0\n",
    "for i in result:\n",
    "    print(i[0], i[1])\n",
    "    cnt += 1\n",
    "    if cnt == 10:\n",
    "        break"
   ]
  }
 ],
 "metadata": {
  "kernelspec": {
   "display_name": "Python 3",
   "language": "python",
   "name": "python3"
  },
  "language_info": {
   "codemirror_mode": {
    "name": "ipython",
    "version": 3
   },
   "file_extension": ".py",
   "mimetype": "text/x-python",
   "name": "python",
   "nbconvert_exporter": "python",
   "pygments_lexer": "ipython3",
   "version": "3.6.3"
  }
 },
 "nbformat": 4,
 "nbformat_minor": 2
}

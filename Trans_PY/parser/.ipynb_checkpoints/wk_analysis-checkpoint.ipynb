{
 "cells": [
  {
   "cell_type": "code",
   "execution_count": 2,
   "metadata": {
    "collapsed": true
   },
   "outputs": [],
   "source": [
    "%matplotlib inline"
   ]
  },
  {
   "cell_type": "code",
   "execution_count": 3,
   "metadata": {
    "collapsed": true
   },
   "outputs": [],
   "source": [
    "import numpy as np\n",
    "import pandas  as pd\n",
    "import pickle\n",
    "import os\n",
    "import matplotlib.pyplot as plt\n",
    "import requests\n",
    "from bs4 import BeautifulSoup"
   ]
  },
  {
   "cell_type": "code",
   "execution_count": 4,
   "metadata": {},
   "outputs": [
    {
     "data": {
      "text/plain": [
       "['TransE',\n",
       " 'data.zip',\n",
       " '.git',\n",
       " 'f2w.nt',\n",
       " 'PTransE',\n",
       " 'TransH',\n",
       " 'Trans_PY',\n",
       " 'CTransR',\n",
       " 'wikidata',\n",
       " 'FB15k',\n",
       " 'README.md',\n",
       " 'makefile',\n",
       " 'cluster',\n",
       " '__MACOSX',\n",
       " 'WN18']"
      ]
     },
     "execution_count": 4,
     "metadata": {},
     "output_type": "execute_result"
    }
   ],
   "source": [
    "os.listdir('../../')"
   ]
  },
  {
   "cell_type": "code",
   "execution_count": 5,
   "metadata": {
    "collapsed": true
   },
   "outputs": [],
   "source": [
    "data_path = '../../wikidata/'"
   ]
  },
  {
   "cell_type": "markdown",
   "metadata": {},
   "source": [
    "## Relation Information analysis"
   ]
  },
  {
   "cell_type": "code",
   "execution_count": 6,
   "metadata": {
    "collapsed": true
   },
   "outputs": [],
   "source": [
    "with open(data_path+'train.txt', 'r') as f:\n",
    "    data = f.readlines()\n",
    "    \n",
    "tail2relation_map = {}\n",
    "head2relation_map = {}\n",
    "entity_list = []\n",
    "\n",
    "for i in data:\n",
    "    head, tail, rel = i.split('\\t')\n",
    "    head = head.strip()\n",
    "    tail = tail.strip()\n",
    "    rel = rel.strip()\n",
    "    if head not in entity_list:\n",
    "        entity_list += [head]\n",
    "    if tail not in entity_list:\n",
    "        entity_list += [tail]\n",
    "    if head not in head2relation_map:\n",
    "        head2relation_map.update({head : [rel]})\n",
    "    elif rel not in head2relation_map[head]:\n",
    "        head2relation_map[head] += [rel]\n",
    "    \n",
    "    if tail not in tail2relation_map:\n",
    "        tail2relation_map.update({tail : [rel]})\n",
    "    elif rel not in tail2relation_map[tail]:\n",
    "        tail2relation_map[tail] += [rel]"
   ]
  },
  {
   "cell_type": "code",
   "execution_count": 7,
   "metadata": {
    "collapsed": true
   },
   "outputs": [],
   "source": [
    "def get_str(lis):\n",
    "    st = ''\n",
    "    for i in lis:\n",
    "        st += i.strip() + '\\t'\n",
    "    return st.strip()"
   ]
  },
  {
   "cell_type": "code",
   "execution_count": 8,
   "metadata": {
    "collapsed": true
   },
   "outputs": [],
   "source": [
    "one2one_relation = {}\n",
    "one2multi_relation = {}\n",
    "multi2one_relation = {}\n",
    "multi2multi_relation = {}\n",
    "false_entity = []\n",
    "one2one_cnt = 0\n",
    "one2multi_cnt = 0\n",
    "multi2one_cnt = 0\n",
    "multi2multi_cnt = 0\n",
    "\n",
    "for i in entity_list:\n",
    "    if i not in tail2relation_map or i not in head2relation_map:\n",
    "        if i not in false_entity:\n",
    "            false_entity += [i]\n",
    "        continue\n",
    "    if len(tail2relation_map[i]) > 1 and len(head2relation_map[i]) > 1:\n",
    "        multi2multi_cnt += 1\n",
    "        if get_str(tail2relation_map[i]) not in multi2multi_relation:\n",
    "            multi2multi_relation.update({get_str(tail2relation_map[i]):[get_str(head2relation_map[i])]})\n",
    "        elif get_str(head2relation_map[i]) not in multi2multi_relation[get_str(tail2relation_map[i])]:\n",
    "            multi2multi_relation[get_str(tail2relation_map[i])] += [get_str(head2relation_map[i])]\n",
    "    if len(tail2relation_map[i]) == 1 and len(head2relation_map[i]) > 1:\n",
    "        one2multi_cnt += 1\n",
    "        if tail2relation_map[i][0] not in one2multi_relation:\n",
    "            one2multi_relation.update({tail2relation_map[i][0]:[get_str(head2relation_map[i])]})\n",
    "        elif get_str(head2relation_map[i]) not in one2multi_relation[tail2relation_map[i][0]]:\n",
    "            one2multi_relation[tail2relation_map[i][0]] += [get_str(head2relation_map[i])]\n",
    "    if len(tail2relation_map[i]) > 1 and len(head2relation_map[i]) == 1:\n",
    "        multi2one_cnt += 1\n",
    "        if get_str(tail2relation_map[i]) not in multi2one_relation:\n",
    "            multi2one_relation.update({get_str(tail2relation_map[i]):[head2relation_map[i][0]]})\n",
    "        elif head2relation_map[i][0] not in multi2one_relation[get_str(tail2relation_map[i])]:\n",
    "            multi2one_relation[get_str(tail2relation_map[i])] += [head2relation_map[i][0]]\n",
    "    if len(tail2relation_map[i]) == 1 and len(head2relation_map[i]) == 1:\n",
    "        one2one_cnt += 1\n",
    "        if get_str(tail2relation_map[i]) not in one2one_relation:\n",
    "            one2one_relation.update({get_str(tail2relation_map[i]):[get_str(head2relation_map[i])]})\n",
    "        elif get_str(head2relation_map[i]) not in one2one_relation[get_str(tail2relation_map[i])]:\n",
    "            one2one_relation[get_str(tail2relation_map[i])] += [get_str(head2relation_map[i])]"
   ]
  },
  {
   "cell_type": "code",
   "execution_count": 9,
   "metadata": {},
   "outputs": [
    {
     "data": {
      "text/plain": [
       "(12829, 190, 268, 628)"
      ]
     },
     "execution_count": 9,
     "metadata": {},
     "output_type": "execute_result"
    }
   ],
   "source": [
    "multi2multi_cnt, multi2one_cnt, one2multi_cnt, one2one_cnt"
   ]
  },
  {
   "cell_type": "code",
   "execution_count": 10,
   "metadata": {},
   "outputs": [
    {
     "data": {
      "text/plain": [
       "(11543, 145, 85, 149)"
      ]
     },
     "execution_count": 10,
     "metadata": {},
     "output_type": "execute_result"
    }
   ],
   "source": [
    "len(multi2multi_relation), len(multi2one_relation), len(one2multi_relation), len(one2one_relation)"
   ]
  },
  {
   "cell_type": "code",
   "execution_count": 19,
   "metadata": {
    "collapsed": true
   },
   "outputs": [],
   "source": [
    "total_pairs = []\n",
    "rel_list = []\n",
    "def get_pairs(dict1):\n",
    "    lis_pairs = []\n",
    "    global rel_list, total_pairs\n",
    "    for keys,values in dict1.items():\n",
    "        lis = keys.split('\\t')\n",
    "        for i in lis:\n",
    "            if i not in rel_list:\n",
    "                rel_list += [i]\n",
    "            for j in lis:\n",
    "                if i != j and i + '\\t' + j not in lis_pairs:\n",
    "                    lis_pairs += [i+'\\t'+j]\n",
    "                if i != j and i + '\\t' + j not in total_pairs:\n",
    "                    total_pairs += [i+'\\t'+j]\n",
    "        for rels in values:\n",
    "            r_lis = rels.split('\\t')\n",
    "            for i in r_lis:\n",
    "                if i not in rel_list:\n",
    "                    rel_list += [i]\n",
    "                for j in r_lis:\n",
    "                    if i != j and i + '\\t' + j not in lis_pairs:\n",
    "                        lis_pairs += [i+'\\t'+j]\n",
    "                    if i != j and i + '\\t' + j not in total_pairs:\n",
    "                        total_pairs += [i+'\\t'+j]\n",
    "    return lis_pairs\n",
    "# one2one_pairs = get_pairs(one2one_relation)\n",
    "one2multi_pairs = get_pairs(one2multi_relation)\n",
    "multi2one_pairs = get_pairs(multi2one_relation)"
   ]
  },
  {
   "cell_type": "code",
   "execution_count": 20,
   "metadata": {},
   "outputs": [
    {
     "data": {
      "text/plain": [
       "(0, 160, 1330, 934)"
      ]
     },
     "execution_count": 20,
     "metadata": {},
     "output_type": "execute_result"
    }
   ],
   "source": [
    "len(rel_list), len(one2one_pairs), len(multi2one_pairs), len(one2multi_pairs)"
   ]
  },
  {
   "cell_type": "code",
   "execution_count": 13,
   "metadata": {},
   "outputs": [
    {
     "data": {
      "text/plain": [
       "(160,\n",
       " '/location/country/form_of_government\\t/government/form_of_government/countries')"
      ]
     },
     "execution_count": 13,
     "metadata": {},
     "output_type": "execute_result"
    }
   ],
   "source": [
    "len(one2one_pairs),one2one_pairs[0]"
   ]
  },
  {
   "cell_type": "code",
   "execution_count": 18,
   "metadata": {
    "collapsed": true
   },
   "outputs": [],
   "source": [
    "with open(data_path+'relation_graph.txt', 'w') as f:\n",
    "    for i in multi2one_pairs:\n",
    "        f.write(i+'\\n')"
   ]
  },
  {
   "cell_type": "code",
   "execution_count": 14,
   "metadata": {
    "collapsed": true
   },
   "outputs": [],
   "source": [
    "df = pd.DataFrame(list(multi2multi_relation.values()), index = list(multi2multi_relation.keys()))\n",
    "# pd.set_option('max_columns', 10000000)\n",
    "# df.head()\n",
    "# df['first'] = df.index\n",
    "# df.index = range(len(df))\n",
    "# df.columns = ['first', 'additive1', 'additive2', 'second']\n",
    "# df[['first', 'second', 'additive1', 'additive2']]\n",
    "# with open(data_path+'multi2multi_relation.csv', 'w') as f:\n",
    "#     df.to_csv(f)"
   ]
  },
  {
   "cell_type": "code",
   "execution_count": 111,
   "metadata": {
    "collapsed": true
   },
   "outputs": [],
   "source": [
    "def search_wikidata(index):\n",
    "    url = \"https://www.wikidata.org/wiki/\"+index\n",
    "    res = requests.get(url)\n",
    "    res.encoding = 'utf-8'\n",
    "    soup = BeautifulSoup(res.text, \"html.parser\")\n",
    "#     print(index)\n",
    "    label = ''\n",
    "    desc = ''\n",
    "    for tag in soup.find_all(\"span\", class_=\"wikibase-title-label\"):\n",
    "        label = tag.string\n",
    "    for tag in soup.find_all(\"span\", class_=\"wikibase-descriptionview-text\"):\t\n",
    "        desc = tag.string\n",
    "    return label + '-->' + desc"
   ]
  },
  {
   "cell_type": "code",
   "execution_count": 175,
   "metadata": {
    "collapsed": true
   },
   "outputs": [],
   "source": [
    "with open(data_path+'train.txt', 'r') as f:\n",
    "    data = f.readlines()\n",
    "    \n",
    "relation2head_map = {}\n",
    "relation2tail_map = {}\n",
    "rel_h2t = {}\n",
    "rel_t2h = {}\n",
    "for i in data:\n",
    "    head, tail, rel = i.split('\\t')\n",
    "    head = head.strip()\n",
    "    tail = tail.strip()\n",
    "    rel = rel.strip()\n",
    "    if rel + '\\t' + head not in rel_h2t:\n",
    "        rel_h2t.update({rel + '\\t' + head : [tail]})\n",
    "    elif tail not in rel_h2t[rel + '\\t' + head]:\n",
    "        rel_h2t[rel + '\\t' + head] += [tail]\n",
    "    \n",
    "    if rel + '\\t' + tail not in rel_t2h:\n",
    "        rel_t2h.update({rel + '\\t' + tail : [head]})\n",
    "    elif head not in rel_t2h[rel + '\\t' + tail]:\n",
    "        rel_t2h[rel + '\\t' + tail] += [head]\n",
    "        \n",
    "    if rel not in relation2head_map:\n",
    "        relation2head_map.update({rel : [head]})\n",
    "    elif head not in relation2head_map[rel]:\n",
    "        relation2head_map[rel] += [head]\n",
    "    \n",
    "    if rel not in relation2tail_map:\n",
    "        relation2tail_map.update({rel : [tail]})\n",
    "    elif tail not in relation2tail_map[rel]:\n",
    "        relation2tail_map[rel] += [tail]"
   ]
  },
  {
   "cell_type": "markdown",
   "metadata": {},
   "source": [
    "## one2one relation analysis"
   ]
  },
  {
   "cell_type": "code",
   "execution_count": 179,
   "metadata": {
    "collapsed": true
   },
   "outputs": [],
   "source": [
    "relation_pairs_entity = {}\n",
    "for rel1, values in one2one_relation.items():\n",
    "    for rel2 in values:\n",
    "        for e in relation2tail_map[rel1]:\n",
    "            if  rel2+'\\t'+e in rel_h2t:\n",
    "                relation_pairs_entity.update({rel1 + '\\t' + rel2 : [rel_t2h[rel1+'\\t'+e][0],\n",
    "                                                                   e, rel_h2t[rel2+'\\t'+e][0]]})\n",
    "                break"
   ]
  },
  {
   "cell_type": "code",
   "execution_count": 200,
   "metadata": {
    "collapsed": true
   },
   "outputs": [],
   "source": [
    "relation_pairs_desc = {}\n",
    "for key, values in relation_pairs_entity.items():\n",
    "    if key not in relation_pairs_desc:\n",
    "        relation_pairs_desc.update({key: [search_wikidata(values[0])+'\\n' +\n",
    "                                           search_wikidata(values[1])+'\\n' + search_wikidata(values[2])]})\n",
    "    else:\n",
    "        relation_pairs_desc[key] += [search_wikidata(values[0])+'\\n' + \n",
    "                                      search_wikidata(values[1])+'\\n' + search_wikidata(values[2])]"
   ]
  },
  {
   "cell_type": "code",
   "execution_count": 182,
   "metadata": {
    "collapsed": true
   },
   "outputs": [],
   "source": [
    "df = pd.DataFrame(list(relation_pairs_desc.values()), index=list(relation_pairs_desc.keys()))\n",
    "with open(data_path+'one2one_relation_desc.csv', 'w') as f:\n",
    "    df.to_csv(f)"
   ]
  },
  {
   "cell_type": "markdown",
   "metadata": {},
   "source": [
    "## Relation sim analysis"
   ]
  },
  {
   "cell_type": "code",
   "execution_count": 20,
   "metadata": {
    "collapsed": true
   },
   "outputs": [],
   "source": [
    "with open(data_path+'train.txt', 'r') as f:\n",
    "    data = f.readlines()\n",
    "\n",
    "relation_entity_map = {}\n",
    "for i in data:\n",
    "    head, tail, rel = i.split('\\t')\n",
    "    if rel not in relation_entity_map:\n",
    "        relation_entity_map.update({rel:{'head':[head],'tail':[tail]}})\n",
    "    else:\n",
    "        if head not in relation_entity_map[rel]['head']:\n",
    "            relation_entity_map[rel]['head'] += [head]\n",
    "        if tail not in relation_entity_map[rel]['tail']:\n",
    "            relation_entity_map[rel]['tail'] += [tail]"
   ]
  },
  {
   "cell_type": "code",
   "execution_count": 48,
   "metadata": {
    "collapsed": true
   },
   "outputs": [],
   "source": [
    "relation_sim_pairs = []\n",
    "for key,values in relation_entity_map.items():\n",
    "    for k, val in relation_entity_map.items():\n",
    "        head_cnt = 0\n",
    "        tail_cnt = 0\n",
    "        if k != key:\n",
    "            for head in values['head']:\n",
    "                if head in val['head']:\n",
    "                    head_cnt += 1\n",
    "                    if head_cnt > 100:\n",
    "                        break;\n",
    "            for tail in values['tail']:\n",
    "                if tail in val['tail']:\n",
    "                    tail_cnt += 1\n",
    "                    if tail_cnt > 100:\n",
    "                        break\n",
    "        if head_cnt > 100 and tail_cnt > 100:\n",
    "            relation_sim_pairs += [key+'\\t'+k]"
   ]
  },
  {
   "cell_type": "code",
   "execution_count": 49,
   "metadata": {
    "collapsed": true
   },
   "outputs": [],
   "source": [
    "df = pd.DataFrame(relation_sim_pairs)\n",
    "df.columns = ['triple']\n",
    "df['first'] = df['triple'].apply(lambda x: x.split('\\t')[0].strip())\n",
    "df['second'] = df['triple'].apply(lambda x: x.split('\\t')[1].strip())"
   ]
  },
  {
   "cell_type": "code",
   "execution_count": 51,
   "metadata": {
    "collapsed": true
   },
   "outputs": [],
   "source": [
    "pd.set_option('max_columns', 1000)\n",
    "pd.set_option('max_rows', 1000)\n",
    "# df[['first','second']]"
   ]
  },
  {
   "cell_type": "markdown",
   "metadata": {},
   "source": [
    "## Relation relation analysis"
   ]
  },
  {
   "cell_type": "code",
   "execution_count": 183,
   "metadata": {
    "collapsed": true
   },
   "outputs": [],
   "source": [
    "with open(data_path+'train.txt', 'r') as f:\n",
    "    data = f.readlines()\n",
    "    \n",
    "relation2head_map = {}\n",
    "relation2tail_map = {}\n",
    "head2relation_map = {}\n",
    "relation_list = []\n",
    "\n",
    "for i in data:\n",
    "    head, tail, rel = i.split('\\t')\n",
    "    if rel not in relation_list:\n",
    "        relation_list += [rel]\n",
    "    if head in head2relation_map and rel in head2relation_map[head]:\n",
    "        head2relation_map[head][rel] += [tail]\n",
    "    elif head in head2relation_map:\n",
    "        head2relation_map[head].update({rel:[tail]})\n",
    "    else:\n",
    "        head2relation_map[head] = {rel:[tail]}\n",
    "    if rel in relation2head_map and head in relation2head_map[rel]:\n",
    "        if tail in relation2head_map[rel][head]:\n",
    "            print(head, tail, rel)\n",
    "        relation2head_map[rel][head] += [tail]\n",
    "    elif rel in relation2head_map:\n",
    "        relation2head_map[rel].update({head:[tail]})\n",
    "    else:\n",
    "        relation2head_map[rel] = {head:[tail]}\n",
    "    \n",
    "    if rel in relation2tail_map and tail in relation2tail_map[rel]:\n",
    "        if head in relation2tail_map[rel][tail]:\n",
    "            print(head, tail, rel)\n",
    "        relation2tail_map[rel][tail] += [head]\n",
    "    elif rel in relation2tail_map:\n",
    "        relation2tail_map[rel].update({tail:[head]})\n",
    "    else:\n",
    "        relation2tail_map[rel] = {tail:[head]}"
   ]
  },
  {
   "cell_type": "code",
   "execution_count": 184,
   "metadata": {
    "collapsed": true
   },
   "outputs": [],
   "source": [
    "relation_pairs_entity_map = {}\n",
    "for key, values in relation2tail_map.items():\n",
    "    lis = []\n",
    "    for tail,_ in values.items():\n",
    "        if tail in head2relation_map:\n",
    "            for i in head2relation_map[tail].keys():\n",
    "                if key + '\\t' + i in relation_pairs_entity_map:\n",
    "#                     if tail not in relation_pairs_entity_map[key+'\\t'+i]:\n",
    "                    relation_pairs_entity_map[key+'\\t'+i] += [tail]\n",
    "                else:\n",
    "                    relation_pairs_entity_map.update({key+'\\t'+i:[tail]})"
   ]
  },
  {
   "cell_type": "code",
   "execution_count": 187,
   "metadata": {
    "collapsed": true
   },
   "outputs": [],
   "source": [
    "relation_pairs_entity_cnt = {}\n",
    "for key, values in relation_pairs_entity_map.items():\n",
    "    if len(values) < 1000:\n",
    "        relation_pairs_entity_cnt[key] = len(values)"
   ]
  },
  {
   "cell_type": "code",
   "execution_count": 188,
   "metadata": {},
   "outputs": [
    {
     "data": {
      "text/plain": [
       "50966"
      ]
     },
     "execution_count": 188,
     "metadata": {},
     "output_type": "execute_result"
    }
   ],
   "source": [
    "# plt.bar(range(len(relation_pairs_entity_cnt)), relation_pairs_entity_cnt.values())\n",
    "len(relation_pairs_entity_cnt)"
   ]
  },
  {
   "cell_type": "code",
   "execution_count": 191,
   "metadata": {
    "collapsed": true
   },
   "outputs": [],
   "source": [
    "reduced_rel_list = []\n",
    "for i in relation_pairs_entity_cnt.keys():\n",
    "    r1, r2 = i.split('\\t')\n",
    "    if r1.strip() not in reduced_rel_list:\n",
    "        reduced_rel_list += [r1.strip()]\n",
    "    if r2.strip() not in reduced_rel_list:\n",
    "        reduced_rel_list += [r2.strip()]"
   ]
  },
  {
   "cell_type": "code",
   "execution_count": 192,
   "metadata": {},
   "outputs": [
    {
     "data": {
      "text/plain": [
       "1291"
      ]
     },
     "execution_count": 192,
     "metadata": {},
     "output_type": "execute_result"
    }
   ],
   "source": [
    "len(reduced_rel_list)"
   ]
  },
  {
   "cell_type": "code",
   "execution_count": 193,
   "metadata": {
    "collapsed": true
   },
   "outputs": [],
   "source": [
    "reduced_triples = []\n",
    "for i in data:\n",
    "    head, tail, rel = i.split(\"\\t\")\n",
    "    if rel.strip() in reduced_rel_list:\n",
    "        reduced_triples += [i]"
   ]
  },
  {
   "cell_type": "code",
   "execution_count": 194,
   "metadata": {},
   "outputs": [
    {
     "data": {
      "text/plain": [
       "421198"
      ]
     },
     "execution_count": 194,
     "metadata": {},
     "output_type": "execute_result"
    }
   ],
   "source": [
    "len(reduced_triples)"
   ]
  },
  {
   "cell_type": "code",
   "execution_count": 195,
   "metadata": {},
   "outputs": [
    {
     "data": {
      "text/plain": [
       "421198"
      ]
     },
     "execution_count": 195,
     "metadata": {},
     "output_type": "execute_result"
    }
   ],
   "source": [
    "len(data)"
   ]
  },
  {
   "cell_type": "code",
   "execution_count": 196,
   "metadata": {},
   "outputs": [
    {
     "data": {
      "text/plain": [
       "50966"
      ]
     },
     "execution_count": 196,
     "metadata": {},
     "output_type": "execute_result"
    }
   ],
   "source": [
    "len(relation_pairs_entity_cnt)"
   ]
  },
  {
   "cell_type": "code",
   "execution_count": 197,
   "metadata": {
    "collapsed": true
   },
   "outputs": [],
   "source": [
    "pd.set_option('max_columns', 1000)\n",
    "df = pd.DataFrame(list(relation_pairs_entity_cnt.values()), index = list(relation_pairs_entity_cnt.keys())).sort_values(\n",
    " [0], ascending=[False])"
   ]
  },
  {
   "cell_type": "code",
   "execution_count": 198,
   "metadata": {
    "collapsed": true
   },
   "outputs": [],
   "source": [
    "df['first'] = df.index\n",
    "df.index = range(len(df))\n",
    "df.columns = ['cnt', 'triple']\n",
    "df['first'] = df['triple'].apply(lambda x: x.split('\\t')[0].strip())\n",
    "df['second'] = df['triple'].apply(lambda x: x.split('\\t')[1].strip())"
   ]
  },
  {
   "cell_type": "code",
   "execution_count": 199,
   "metadata": {
    "collapsed": true
   },
   "outputs": [],
   "source": [
    "with open(data_path+'relation_pairs_small.csv', 'w') as f:\n",
    "    df[['first', 'second', 'cnt']].to_csv(f)"
   ]
  },
  {
   "cell_type": "markdown",
   "metadata": {},
   "source": [
    "## FB convert to WikiData"
   ]
  },
  {
   "cell_type": "code",
   "execution_count": null,
   "metadata": {
    "collapsed": true
   },
   "outputs": [],
   "source": [
    "src_path = '../../FB15k/'\n",
    "dest_path = '../../wikidata/'\n",
    "\n",
    "fb2wiki = {}\n",
    "with open(src_path+'f2w.nt', 'r') as f:\n",
    "    data = f.readlines()\n",
    "    for i in data:\n",
    "        fb, wiki = i.split(' ')\n",
    "        fb2wiki[fb] = wiki.rstrip()\n",
    "\n",
    "with open(src_path+'test.txt', 'r') as f:\n",
    "    data = f.readlines()\n",
    "triples = []\n",
    "for i in data:\n",
    "    h, t, rel = i.split('\\t')\n",
    "    if h in fb2wiki and t in fb2wiki:\n",
    "        triples += [fb2wiki[h]+'\\t'+fb2wiki[t]+'\\t'+rel]\n",
    "\n",
    "with open(dest_path+'test.txt', 'w+') as f:\n",
    "    for i in triples:\n",
    "        f.write(i)\n",
    "\n",
    "os.listdir(dest_path)"
   ]
  }
 ],
 "metadata": {
  "kernelspec": {
   "display_name": "Python 3",
   "language": "python",
   "name": "python3"
  },
  "language_info": {
   "codemirror_mode": {
    "name": "ipython",
    "version": 3
   },
   "file_extension": ".py",
   "mimetype": "text/x-python",
   "name": "python",
   "nbconvert_exporter": "python",
   "pygments_lexer": "ipython3",
   "version": "3.6.3"
  }
 },
 "nbformat": 4,
 "nbformat_minor": 2
}
